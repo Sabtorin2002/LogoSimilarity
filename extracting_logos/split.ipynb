{
 "cells": [
  {
   "cell_type": "code",
   "execution_count": 2,
   "metadata": {},
   "outputs": [
    {
     "data": {
      "text/plain": [
       "(2670, 668)"
      ]
     },
     "execution_count": 2,
     "metadata": {},
     "output_type": "execute_result"
    }
   ],
   "source": [
    "import os\n",
    "import shutil\n",
    "import random\n",
    "\n",
    "# Define paths\n",
    "logos_folder = \"../logos\"\n",
    "train_folder = \"logos_train\"\n",
    "test_folder = \"logos_test\"\n",
    "\n",
    "# Create directories if they don't exist\n",
    "os.makedirs(train_folder, exist_ok=True)\n",
    "os.makedirs(test_folder, exist_ok=True)\n",
    "\n",
    "# Get all PNG images\n",
    "image_files = [f for f in os.listdir(logos_folder) if f.endswith(\".png\")]\n",
    "\n",
    "# Shuffle and split into 80% train, 20% test\n",
    "random.shuffle(image_files)\n",
    "split_index = int(0.8 * len(image_files))\n",
    "train_images = image_files[:split_index]\n",
    "test_images = image_files[split_index:]\n",
    "\n",
    "# Move images to respective folders\n",
    "for img in train_images:\n",
    "    shutil.copy(os.path.join(logos_folder, img), os.path.join(train_folder, img))\n",
    "\n",
    "for img in test_images:\n",
    "    shutil.copy(os.path.join(logos_folder, img), os.path.join(test_folder, img))\n",
    "\n",
    "# Return the number of images in each set\n",
    "len(train_images), len(test_images)\n"
   ]
  }
 ],
 "metadata": {
  "kernelspec": {
   "display_name": "Python 3",
   "language": "python",
   "name": "python3"
  },
  "language_info": {
   "codemirror_mode": {
    "name": "ipython",
    "version": 3
   },
   "file_extension": ".py",
   "mimetype": "text/x-python",
   "name": "python",
   "nbconvert_exporter": "python",
   "pygments_lexer": "ipython3",
   "version": "3.12.7"
  }
 },
 "nbformat": 4,
 "nbformat_minor": 2
}
