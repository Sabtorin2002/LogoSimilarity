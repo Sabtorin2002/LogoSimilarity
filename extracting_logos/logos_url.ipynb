{
 "cells": [
  {
   "cell_type": "code",
   "execution_count": 10,
   "metadata": {},
   "outputs": [],
   "source": [
    "#\"dataset/logos.snappy.parquet\"\n",
    "import pandas as pd\n",
    "import requests"
   ]
  },
  {
   "cell_type": "code",
   "execution_count": 13,
   "metadata": {},
   "outputs": [
    {
     "name": "stdout",
     "output_type": "stream",
     "text": [
      "✅ Logos extracted and saved in 'logos_with_urls.csv'\n"
     ]
    }
   ],
   "source": [
    "# Load the Parquet file\n",
    "file_path = \"dataset/logos.snappy.parquet\"  # Change this to the actual path\n",
    "df = pd.read_parquet(file_path, engine=\"pyarrow\")\n",
    "\n",
    "# Function to generate logo URL using Clearbit API\n",
    "def get_logo_url(domain):\n",
    "    return f\"https://logo.clearbit.com/{domain}\"\n",
    "\n",
    "# Add a new column with logo URLs\n",
    "df[\"logo_url\"] = df[\"domain\"].apply(get_logo_url)\n",
    "\n",
    "# Save the results as a CSV file\n",
    "df.to_csv(\"dataset/logos_with_urls.csv\", index=False)\n",
    "\n",
    "print(\"✅ Logos extracted and saved in 'logos_with_urls.csv'\")"
   ]
  }
 ],
 "metadata": {
  "kernelspec": {
   "display_name": "Python 3",
   "language": "python",
   "name": "python3"
  },
  "language_info": {
   "codemirror_mode": {
    "name": "ipython",
    "version": 3
   },
   "file_extension": ".py",
   "mimetype": "text/x-python",
   "name": "python",
   "nbconvert_exporter": "python",
   "pygments_lexer": "ipython3",
   "version": "3.12.7"
  }
 },
 "nbformat": 4,
 "nbformat_minor": 2
}
